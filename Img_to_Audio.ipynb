{
  "nbformat": 4,
  "nbformat_minor": 0,
  "metadata": {
    "colab": {
      "provenance": []
    },
    "kernelspec": {
      "name": "python3",
      "display_name": "Python 3"
    },
    "language_info": {
      "name": "python"
    }
  },
  "cells": [
    {
      "cell_type": "code",
      "source": [
        "import io\n",
        "import os\n",
        "\n",
        "from google.cloud import vision\n",
        "from google.oauth2 import service_account\n",
        "from gtts import gTTS\n",
        "\n",
        "# Set up credentials\n",
        "credentials = service_account.Credentials.from_service_account_file('<path-to-key-file>')\n",
        "\n",
        "# Initialize client\n",
        "client = vision.ImageAnnotatorClient(credentials=credentials)\n",
        "\n",
        "# Load image\n",
        "with io.open('<path-to-image-file>', 'rb') as image_file:\n",
        "    content = image_file.read()\n",
        "\n",
        "image = vision.Image(content=content)\n",
        "\n",
        "# Annotate image\n",
        "response = client.annotate_image({\n",
        "    'image': image,\n",
        "    'features': [{'type': vision.enums.Feature.Type.LABEL_DETECTION}]\n",
        "})\n",
        "\n",
        "# Get description from response\n",
        "labels = [label.description for label in response.label_annotations]\n",
        "description = ' '.join(labels)\n",
        "\n",
        "# Generate audio file\n",
        "tts = gTTS(description)\n",
        "tts.save('<path-to-audio-file>')\n"
      ],
      "metadata": {
        "id": "BIIBwWB8s65y"
      },
      "execution_count": null,
      "outputs": []
    }
  ]
}