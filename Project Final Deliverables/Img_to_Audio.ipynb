{
  "nbformat": 4,
  "nbformat_minor": 0,
  "metadata": {
    "colab": {
      "provenance": []
    },
    "kernelspec": {
      "name": "python3",
      "display_name": "Python 3"
    },
    "language_info": {
      "name": "python"
    }
  },
  "cells": [
    {
      "cell_type": "code",
      "source": [
        "pip install gtts"
      ],
      "metadata": {
        "colab": {
          "base_uri": "https://localhost:8080/"
        },
        "id": "iNLL2MHY1AKC",
        "outputId": "f0a04f36-a10c-407b-a9c7-70d409558436"
      },
      "execution_count": 1,
      "outputs": [
        {
          "output_type": "stream",
          "name": "stdout",
          "text": [
            "Looking in indexes: https://pypi.org/simple, https://us-python.pkg.dev/colab-wheels/public/simple/\n",
            "Collecting gtts\n",
            "  Downloading gTTS-2.3.1-py3-none-any.whl (28 kB)\n",
            "Requirement already satisfied: click<8.2,>=7.1 in /usr/local/lib/python3.9/dist-packages (from gtts) (8.1.3)\n",
            "Requirement already satisfied: requests<3,>=2.27 in /usr/local/lib/python3.9/dist-packages (from gtts) (2.27.1)\n",
            "Requirement already satisfied: urllib3<1.27,>=1.21.1 in /usr/local/lib/python3.9/dist-packages (from requests<3,>=2.27->gtts) (1.26.15)\n",
            "Requirement already satisfied: charset-normalizer~=2.0.0 in /usr/local/lib/python3.9/dist-packages (from requests<3,>=2.27->gtts) (2.0.12)\n",
            "Requirement already satisfied: idna<4,>=2.5 in /usr/local/lib/python3.9/dist-packages (from requests<3,>=2.27->gtts) (3.4)\n",
            "Requirement already satisfied: certifi>=2017.4.17 in /usr/local/lib/python3.9/dist-packages (from requests<3,>=2.27->gtts) (2022.12.7)\n",
            "Installing collected packages: gtts\n",
            "Successfully installed gtts-2.3.1\n"
          ]
        }
      ]
    },
    {
      "cell_type": "code",
      "source": [
        "!wget \"https://pjreddie.com/media/files/yolov3.weights\"\n",
        "\n",
        "!wget \"https://raw.githubusercontent.com/pjreddie/darknet/master/cfg/yolov3.cfg\"\n",
        "\n",
        "!wget \"https://raw.githubusercontent.com/pjreddie/darknet/master/data/coco.names\""
      ],
      "metadata": {
        "colab": {
          "base_uri": "https://localhost:8080/"
        },
        "id": "wdhb2SLNKeNe",
        "outputId": "7c0d3f59-4f05-4d2c-b38c-2adbbd037abe"
      },
      "execution_count": 2,
      "outputs": [
        {
          "output_type": "stream",
          "name": "stdout",
          "text": [
            "--2023-04-17 17:58:57--  https://pjreddie.com/media/files/yolov3.weights\n",
            "Resolving pjreddie.com (pjreddie.com)... 128.208.4.108\n",
            "Connecting to pjreddie.com (pjreddie.com)|128.208.4.108|:443... connected.\n",
            "HTTP request sent, awaiting response... 200 OK\n",
            "Length: 248007048 (237M) [application/octet-stream]\n",
            "Saving to: ‘yolov3.weights’\n",
            "\n",
            "yolov3.weights      100%[===================>] 236.52M  36.4MB/s    in 6.7s    \n",
            "\n",
            "2023-04-17 17:59:04 (35.2 MB/s) - ‘yolov3.weights’ saved [248007048/248007048]\n",
            "\n",
            "--2023-04-17 17:59:04--  https://raw.githubusercontent.com/pjreddie/darknet/master/cfg/yolov3.cfg\n",
            "Resolving raw.githubusercontent.com (raw.githubusercontent.com)... 185.199.110.133, 185.199.108.133, 185.199.109.133, ...\n",
            "Connecting to raw.githubusercontent.com (raw.githubusercontent.com)|185.199.110.133|:443... connected.\n",
            "HTTP request sent, awaiting response... 200 OK\n",
            "Length: 8342 (8.1K) [text/plain]\n",
            "Saving to: ‘yolov3.cfg’\n",
            "\n",
            "yolov3.cfg          100%[===================>]   8.15K  --.-KB/s    in 0s      \n",
            "\n",
            "2023-04-17 17:59:04 (69.0 MB/s) - ‘yolov3.cfg’ saved [8342/8342]\n",
            "\n",
            "--2023-04-17 17:59:04--  https://raw.githubusercontent.com/pjreddie/darknet/master/data/coco.names\n",
            "Resolving raw.githubusercontent.com (raw.githubusercontent.com)... 185.199.108.133, 185.199.109.133, 185.199.110.133, ...\n",
            "Connecting to raw.githubusercontent.com (raw.githubusercontent.com)|185.199.108.133|:443... connected.\n",
            "HTTP request sent, awaiting response... 200 OK\n",
            "Length: 625 [text/plain]\n",
            "Saving to: ‘coco.names’\n",
            "\n",
            "coco.names          100%[===================>]     625  --.-KB/s    in 0s      \n",
            "\n",
            "2023-04-17 17:59:04 (39.8 MB/s) - ‘coco.names’ saved [625/625]\n",
            "\n"
          ]
        }
      ]
    },
    {
      "cell_type": "code",
      "source": [
        "import cv2\n",
        "import numpy as np\n",
        "from gtts import gTTS\n",
        "from IPython.display import Audio\n",
        "\n",
        "# Load the image\n",
        "img = cv2.imread('7.jpg')\n",
        "\n",
        "# Load the YOLOv3 object detection model\n",
        "net = cv2.dnn.readNetFromDarknet('yolov3.cfg','yolov3.weights')\n",
        "\n",
        "# Load the COCO class names\n",
        "classes = []\n",
        "with open('coco.names', 'r') as f:\n",
        "    classes = [line.strip() for line in f.readlines()]\n",
        "\n",
        "# Define the names of the output layers\n",
        "output_layers = net.getUnconnectedOutLayersNames()\n",
        "\n",
        "# Define the minimum confidence threshold for detections\n",
        "conf_threshold = 0.3\n",
        "\n",
        "# Define the non-maximum suppression threshold for overlapping boxes\n",
        "nms_threshold = 0.3\n",
        "\n",
        "if(type(img)==np.ndarray):\n",
        "  # Increase the image size\n",
        "  img = cv2.resize(img, (608, 608))\n",
        "\n",
        "  # Preprocess the image\n",
        "  blob = cv2.dnn.blobFromImage(img, 1/255.0, (608, 608), swapRB=True, crop=False)\n",
        "\n",
        "  # Pass the image through the network\n",
        "  net.setInput(blob)\n",
        "  outs = net.forward(output_layers)\n",
        "\n",
        "  # Extract the object labels and bounding boxes from the network outputs\n",
        "  class_ids = []\n",
        "  confidences = []\n",
        "  boxes = []\n",
        "  for out in outs:\n",
        "      for detection in out:\n",
        "          scores = detection[5:]\n",
        "          class_id = np.argmax(scores)\n",
        "          confidence = scores[class_id]\n",
        "          if confidence > conf_threshold:\n",
        "              center_x = int(detection[0] * img.shape[1])\n",
        "              center_y = int(detection[1] * img.shape[0])\n",
        "              width = int(detection[2] * img.shape[1])\n",
        "              height = int(detection[3] * img.shape[0])\n",
        "              left = int(center_x - width / 2)\n",
        "              top = int(center_y - height / 2)\n",
        "              class_ids.append(class_id)\n",
        "              confidences.append(float(confidence))\n",
        "              boxes.append([left, top, width, height])\n",
        "\n",
        "  # Apply non-maximum suppression to remove overlapping boxes\n",
        "  indices = cv2.dnn.NMSBoxes(boxes, confidences, conf_threshold, nms_threshold)\n",
        "  labels = []\n",
        "  for i in indices:\n",
        "      i = int(i)\n",
        "      label = class_ids[i]\n",
        "      if label not in labels:\n",
        "        labels.append(label)\n",
        "\n",
        "  # Print the object labels\n",
        "  label_name=[]\n",
        "  if len(indices) > 0:\n",
        "      print('This image contains the following objects:')\n",
        "      for i in indices.flatten():\n",
        "          label = str(classes[class_ids[i]])\n",
        "          if label not in label_name:\n",
        "            print(label)\n",
        "            label_name.append(label)\n",
        "  else:\n",
        "      print('No objects were detected in this image.')\n",
        "\n",
        "  # Generate the audio description\n",
        "  if len(indices) != 0:\n",
        "    description = 'This image contains '\n",
        "    for i, label in enumerate(label_name):\n",
        "      if i == 0:\n",
        "        description += label\n",
        "      elif i == len(labels) - 1:\n",
        "        description += ' and ' + label\n",
        "      else:\n",
        "        description += ', ' + label\n",
        "\n",
        "    # Convert the description to speech and save it\n",
        "    tts = gTTS(description)\n",
        "    tts.save('description.mp3')\n",
        "\n",
        "    # Play the audio\n",
        "    wn = Audio('description.mp3', autoplay=True)\n",
        "    display(wn)\n",
        "\n",
        "\n",
        "else:\n",
        "  print(\"No image with this name found!\")"
      ],
      "metadata": {
        "colab": {
          "base_uri": "https://localhost:8080/",
          "height": 145
        },
        "id": "24Dp4Voe3nwQ",
        "outputId": "40f18990-c361-4661-e0fe-0b89ff9d6c3a"
      },
      "execution_count": 9,
      "outputs": [
        {
          "output_type": "stream",
          "name": "stdout",
          "text": [
            "This image contains the following objects:\n",
            "person\n",
            "bus\n",
            "chair\n"
          ]
        },
        {
          "output_type": "display_data",
          "data": {
            "text/plain": [
              "<IPython.lib.display.Audio object>"
            ],
            "text/html": [
              "\n",
              "                <audio  controls=\"controls\" autoplay=\"autoplay\">\n",
              "                    <source src=\"data:audio/mpeg;base64,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\" type=\"audio/mpeg\" />\n",
              "                    Your browser does not support the audio element.\n",
              "                </audio>\n",
              "              "
            ]
          },
          "metadata": {}
        }
      ]
    }
  ]
}