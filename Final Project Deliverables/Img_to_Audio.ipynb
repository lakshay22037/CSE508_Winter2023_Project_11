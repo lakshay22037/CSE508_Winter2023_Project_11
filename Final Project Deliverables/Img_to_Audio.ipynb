import io
import os

from google.cloud import vision
from google.oauth2 import service_account
from gtts import gTTS

# Set up credentials
credentials = service_account.Credentials.from_service_account_file('<path-to-key-file>')

# Initialize client
client = vision.ImageAnnotatorClient(credentials=credentials)

# Load image
with io.open('<path-to-image-file>', 'rb') as image_file:
    content = image_file.read()

image = vision.Image(content=content)

# Annotate image
response = client.annotate_image({
    'image': image,
    'features': [{'type': vision.enums.Feature.Type.LABEL_DETECTION}]
})

# Get description from response
labels = [label.description for label in response.label_annotations]
description = ' '.join(labels)

# Generate audio file
tts = gTTS(description)
tts.save('<path-to-audio-file>')
